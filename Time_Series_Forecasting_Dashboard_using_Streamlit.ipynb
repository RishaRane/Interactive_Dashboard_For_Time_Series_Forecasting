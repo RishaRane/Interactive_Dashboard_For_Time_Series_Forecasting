{
  "nbformat": 4,
  "nbformat_minor": 0,
  "metadata": {
    "colab": {
      "provenance": []
    },
    "kernelspec": {
      "name": "python3",
      "display_name": "Python 3"
    },
    "language_info": {
      "name": "python"
    }
  },
  "cells": [
    {
      "cell_type": "markdown",
      "source": [
        "# <pre>Time Series Forecasting Dashboard using Streamlit"
      ],
      "metadata": {
        "id": "N07zCayDGMOf"
      }
    },
    {
      "cell_type": "markdown",
      "source": [
        "## Starting ngrok tunnel"
      ],
      "metadata": {
        "id": "6fzb96FGJ6gt"
      }
    },
    {
      "cell_type": "code",
      "source": [
        "!pip install streamlit\n",
        "!pip install pyngrok"
      ],
      "metadata": {
        "id": "RFv0mDy8JZVq"
      },
      "execution_count": null,
      "outputs": []
    },
    {
      "cell_type": "code",
      "source": [
        "!streamlit run app.py &>/content/logs.txt &"
      ],
      "metadata": {
        "id": "BLB-P0FuKvKj"
      },
      "execution_count": 19,
      "outputs": []
    },
    {
      "cell_type": "code",
      "source": [
        "%%writefile app.py\n",
        "import numpy as np\n",
        "import pandas as pd\n",
        "import tensorflow as tf\n",
        "import plotly.graph_objects as go\n",
        "from sklearn.preprocessing import MinMaxScaler\n",
        "from sklearn.model_selection import train_test_split\n",
        "\n",
        "import warnings\n",
        "warnings.filterwarnings('ignore')\n",
        "\n",
        "import streamlit as st\n",
        "import plotly.express as px\n",
        "from pyngrok import ngrok"
      ],
      "metadata": {
        "colab": {
          "base_uri": "https://localhost:8080/"
        },
        "id": "RTXs95N5KMmz",
        "outputId": "b065d487-7e99-4f53-b3ed-00e5bcb1c848"
      },
      "execution_count": 151,
      "outputs": [
        {
          "output_type": "stream",
          "name": "stdout",
          "text": [
            "Overwriting app.py\n"
          ]
        }
      ]
    },
    {
      "cell_type": "code",
      "source": [
        "#specifying the autorization token\n",
        "!ngrok authtoken 2ms1mDrkTaNFMOKnok6Tg13iLZp_5x49SPxvirKskFtXgpeJm"
      ],
      "metadata": {
        "colab": {
          "base_uri": "https://localhost:8080/"
        },
        "id": "P00YNJ3pKDrF",
        "outputId": "c71f4e91-d5c1-4aaa-f4ee-c53cd6a29eb3"
      },
      "execution_count": 16,
      "outputs": [
        {
          "output_type": "stream",
          "name": "stdout",
          "text": [
            "Authtoken saved to configuration file: /root/.config/ngrok/ngrok.yml\n"
          ]
        }
      ]
    },
    {
      "cell_type": "code",
      "source": [
        "url = ngrok.connect(8501, 'http')\n",
        "print(f'Access the Time Series Dashboard at {url}')"
      ],
      "metadata": {
        "colab": {
          "base_uri": "https://localhost:8080/"
        },
        "id": "mjcg7C2pKWIn",
        "outputId": "8e24cc84-1db4-48df-ec00-ba204c42de9a"
      },
      "execution_count": 17,
      "outputs": [
        {
          "output_type": "stream",
          "name": "stdout",
          "text": [
            "Access the Time Series Dashboard at NgrokTunnel: \"https://7f63-34-138-170-133.ngrok-free.app\" -> \"http://localhost:8501\"\n"
          ]
        }
      ]
    },
    {
      "cell_type": "markdown",
      "source": [
        "## 7. Writing the Streamlit Code"
      ],
      "metadata": {
        "id": "FwFt3nGNKgWk"
      }
    },
    {
      "cell_type": "code",
      "source": [
        "%%writefile -a app.py\n",
        "\n",
        "#importing the dataset\n",
        "amazon_stock_price_df = pd.read_csv('/content/mydata.csv')\n",
        "\n",
        "#setting page configuration\n",
        "st.set_page_config(page_title = 'Time Series Dashboard',\n",
        "                   page_icon =':date:',\n",
        "                   layout = 'wide')"
      ],
      "metadata": {
        "colab": {
          "base_uri": "https://localhost:8080/"
        },
        "id": "8ukNnPIgKa50",
        "outputId": "0e27a455-4dd3-4968-db55-54fb749d4246"
      },
      "execution_count": 152,
      "outputs": [
        {
          "output_type": "stream",
          "name": "stdout",
          "text": [
            "Appending to app.py\n"
          ]
        }
      ]
    },
    {
      "cell_type": "code",
      "source": [
        "%%writefile -a app.py\n",
        "\n",
        "#setting page title\n",
        "st.title('Dashboard for Stock Price Prediction \t:chart:')\n",
        "\n",
        "#moving page title upwards and in center\n",
        "st.markdown(\n",
        "    '''<style>\n",
        "            div.block-container{\n",
        "              padding-top:2rem;\n",
        "              text-align:center;\n",
        "            }\n",
        "       </style>\n",
        "    ''',\n",
        "    unsafe_allow_html = True)"
      ],
      "metadata": {
        "colab": {
          "base_uri": "https://localhost:8080/"
        },
        "id": "c9281Y0nLZ8G",
        "outputId": "522a733f-ad0b-4fbc-b9cc-3d77a96dd770"
      },
      "execution_count": 153,
      "outputs": [
        {
          "output_type": "stream",
          "name": "stdout",
          "text": [
            "Appending to app.py\n"
          ]
        }
      ]
    },
    {
      "cell_type": "markdown",
      "source": [
        "**DATA PREPROCESSING**"
      ],
      "metadata": {
        "id": "WdtLNFYPc34Y"
      }
    },
    {
      "cell_type": "code",
      "source": [
        "%%writefile -a app.py\n",
        "#including important columns\n",
        "amazon_stock_price_df = amazon_stock_price_df[['Date', 'Open', 'High', 'Low', 'Close']]\n",
        "#converting date column to 'datetime' datatype\n",
        "amazon_stock_price_df['Date'] = pd.to_datetime(amazon_stock_price_df['Date'])\n",
        "#making the 'date' column as index\n",
        "amazon_stock_price_df.set_index('Date', inplace = True)"
      ],
      "metadata": {
        "colab": {
          "base_uri": "https://localhost:8080/"
        },
        "id": "QjWzsBZeNVHh",
        "outputId": "09111db8-9d6e-43b1-b367-0c3f14c79e0b"
      },
      "execution_count": 154,
      "outputs": [
        {
          "output_type": "stream",
          "name": "stdout",
          "text": [
            "Appending to app.py\n"
          ]
        }
      ]
    },
    {
      "cell_type": "markdown",
      "source": [
        "**CREATING DATE FILTERS**"
      ],
      "metadata": {
        "id": "q-GBJNo8c8iw"
      }
    },
    {
      "cell_type": "code",
      "source": [
        "%%writefile -a app.py\n",
        "\n",
        "import pandas as pd\n",
        "col1, col2 = st.columns((2))\n",
        "\n",
        "#getting min and max date\n",
        "startDate = pd.to_datetime(amazon_stock_price_df.index).min()\n",
        "endDate = pd.to_datetime(amazon_stock_price_df.index).max()\n",
        "\n",
        "with col1:\n",
        "  date1 = pd.to_datetime(st.date_input(\"Start Date\", startDate))\n",
        "with col2:\n",
        "  date2 = pd.to_datetime(st.date_input(\"End Date\", endDate))\n",
        "\n",
        "df = amazon_stock_price_df.loc[date1:date2]"
      ],
      "metadata": {
        "colab": {
          "base_uri": "https://localhost:8080/"
        },
        "id": "yHgIhU_pMBcN",
        "outputId": "2e0e54ee-f70f-4e96-e3cd-bc967fbe6ff2"
      },
      "execution_count": 155,
      "outputs": [
        {
          "output_type": "stream",
          "name": "stdout",
          "text": [
            "Appending to app.py\n"
          ]
        }
      ]
    },
    {
      "cell_type": "markdown",
      "source": [
        "**DATA NORMALIZATION**"
      ],
      "metadata": {
        "id": "OEGk87zSc_8-"
      }
    },
    {
      "cell_type": "code",
      "source": [
        "%%writefile -a app.py\n",
        "#data normalization\n",
        "scaler = MinMaxScaler()\n",
        "data = scaler.fit_transform(df[df.columns])"
      ],
      "metadata": {
        "colab": {
          "base_uri": "https://localhost:8080/"
        },
        "id": "YNCmZwRwYCMc",
        "outputId": "3f9e1b84-7546-45de-cfab-853830827a48"
      },
      "execution_count": 156,
      "outputs": [
        {
          "output_type": "stream",
          "name": "stdout",
          "text": [
            "Appending to app.py\n"
          ]
        }
      ]
    },
    {
      "cell_type": "markdown",
      "source": [
        "**CREATING SLIDING WINDOW SEQUENCES**"
      ],
      "metadata": {
        "id": "WablrW0kdDoJ"
      }
    },
    {
      "cell_type": "code",
      "source": [
        "%%writefile -a app.py\n",
        "WINDOW_SIZE = 20\n",
        "def create_sliding_window(data, window_size):\n",
        "  X, y = [], []\n",
        "  for i in range(len(data) - window_size):\n",
        "    X.append(data[i:i + window_size, :])  # Use all features\n",
        "    y.append(data[i + window_size, :])    # Predict all columns (Open, High, Low, Close)\n",
        "  return np.array(X), np.array(y)\n",
        "X,  y = create_sliding_window(data, WINDOW_SIZE)"
      ],
      "metadata": {
        "colab": {
          "base_uri": "https://localhost:8080/"
        },
        "id": "dgJoJ12GNU6w",
        "outputId": "1a97be53-5750-4760-e9bb-6942068c5c0a"
      },
      "execution_count": 157,
      "outputs": [
        {
          "output_type": "stream",
          "name": "stdout",
          "text": [
            "Appending to app.py\n"
          ]
        }
      ]
    },
    {
      "cell_type": "markdown",
      "source": [
        "**BUILDING CNN MODEL**"
      ],
      "metadata": {
        "id": "npxYxQqUdIRF"
      }
    },
    {
      "cell_type": "code",
      "source": [
        "%%writefile -a app.py\n",
        "model = tf.keras.Sequential([\n",
        "    # CONV 1D LAYER\n",
        "    tf.keras.layers.Conv1D(filters = 64, kernel_size = 2, activation = 'relu', input_shape = (X.shape[1], X.shape[2])),\n",
        "    # FLATTENING LAYER\n",
        "    tf.keras.layers.Flatten(),\n",
        "    # DENSE HIDDEN LAYER\n",
        "    tf.keras.layers.Dense(50, activation = 'relu'),\n",
        "    # DENSE OUTPUT LAYER\n",
        "    tf.keras.layers.Dense(X.shape[2])\n",
        "])\n",
        "# COMPILATION\n",
        "model.compile(optimizer = 'adam',\n",
        "              loss = 'mse',\n",
        "              metrics = ['accuracy'])\n",
        "#TRAINING THE MODEL\n",
        "model.fit(X, y, epochs = 25, batch_size = 8)"
      ],
      "metadata": {
        "colab": {
          "base_uri": "https://localhost:8080/"
        },
        "id": "fCGgotBzNnGT",
        "outputId": "ee4489e3-81ad-44bb-99f2-6139793cb9a3"
      },
      "execution_count": 158,
      "outputs": [
        {
          "output_type": "stream",
          "name": "stdout",
          "text": [
            "Appending to app.py\n"
          ]
        }
      ]
    },
    {
      "cell_type": "markdown",
      "source": [
        "**MAKING PREDICTIONS**"
      ],
      "metadata": {
        "id": "qvH7N2pMdMtq"
      }
    },
    {
      "cell_type": "code",
      "source": [
        "%%writefile -a app.py\n",
        "preds = model.predict(X)\n",
        "\n",
        "#transforming data to original form\n",
        "preds = scaler.inverse_transform(preds)"
      ],
      "metadata": {
        "colab": {
          "base_uri": "https://localhost:8080/"
        },
        "id": "nMsuXEwYOCjV",
        "outputId": "071e6179-ebb3-4cf7-b98f-8209bcd6c243"
      },
      "execution_count": 159,
      "outputs": [
        {
          "output_type": "stream",
          "name": "stdout",
          "text": [
            "Appending to app.py\n"
          ]
        }
      ]
    },
    {
      "cell_type": "markdown",
      "source": [
        "**PLOTTING THE DATA**"
      ],
      "metadata": {
        "id": "lOUSXXvzdQna"
      }
    },
    {
      "cell_type": "code",
      "source": [
        "%%writefile -a app.py\n",
        "\n",
        "# Plot actual vs predicted prices using Plotly\n",
        "for idx, col in enumerate(amazon_stock_price_df.columns):\n",
        "    st.subheader(f'{col}')\n",
        "    fig = go.Figure()\n",
        "\n",
        "    # Plot actual data\n",
        "    fig.add_trace(go.Scatter(\n",
        "        x=df.index,\n",
        "        y=df[col],\n",
        "        mode='lines',\n",
        "        name=f'Actual {col}'\n",
        "    ))\n",
        "\n",
        "    # Plot predicted data\n",
        "    fig.add_trace(go.Scatter(\n",
        "        x=df.index[:len(preds)],\n",
        "        y=preds[:, idx],\n",
        "        mode='lines',\n",
        "        name=f'Predicted {col}',\n",
        "        line=dict(color = 'yellow')\n",
        "    ))\n",
        "\n",
        "    st.plotly_chart(fig)"
      ],
      "metadata": {
        "colab": {
          "base_uri": "https://localhost:8080/"
        },
        "id": "HpKr-LCgM6ru",
        "outputId": "8f98dbad-0482-4120-b93c-09fcbce413ec"
      },
      "execution_count": 160,
      "outputs": [
        {
          "output_type": "stream",
          "name": "stdout",
          "text": [
            "Appending to app.py\n"
          ]
        }
      ]
    }
  ]
}